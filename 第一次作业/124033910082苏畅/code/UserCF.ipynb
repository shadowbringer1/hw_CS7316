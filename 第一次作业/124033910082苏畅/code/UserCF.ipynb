{
 "cells": [
  {
   "cell_type": "markdown",
   "metadata": {},
   "source": [
    "整体流程：\n",
    "1. 读取 col_matrix.csv\n",
    "2. 划分数据：\n",
    "    - 用户相似度部分：所有用户对前2700列的评分\n",
    "    - 验证集：随机1/10用户（不在测试区间），对[2700: ]列的评分\n",
    "    - 测试集：col_matrix[4100:, 2700:]\n",
    "3. 计算用户之间的相似度矩阵（带掩码 + 惩罚）\n",
    "4. 在验证集/测试集上做评分预测：\n",
    "    - 对每个目标位置 (i,j)，选出对 j 打过分的 top-k 相似用户，取其评分均值\n",
    "5. 生成 test_prediction.csv"
   ]
  },
  {
   "cell_type": "code",
   "execution_count": 5,
   "metadata": {},
   "outputs": [],
   "source": [
    "import numpy as np\n",
    "import pandas as pd\n",
    "from tqdm import tqdm"
   ]
  },
  {
   "cell_type": "code",
   "execution_count": 6,
   "metadata": {},
   "outputs": [],
   "source": [
    "def penalized_masked_cosine_similarity(x, y, beta=1.0):\n",
    "    x = np.array(x)\n",
    "    y = np.array(y)\n",
    "    mask_inter = (x != 0) & (y != 0)\n",
    "    mask_union = (x != 0) | (y != 0)\n",
    "\n",
    "    if np.sum(mask_inter) == 0:\n",
    "        return 0.0\n",
    "    \n",
    "    x_mask = x[mask_inter]\n",
    "    y_mask = y[mask_inter]\n",
    "    sim = np.dot(x_mask, y_mask) / (np.linalg.norm(x_mask) * np.linalg.norm(y_mask))\n",
    "    \n",
    "    penalty = (np.sum(mask_inter) / np.sum(mask_union)) ** beta\n",
    "    return sim * penalty"
   ]
  },
  {
   "cell_type": "code",
   "execution_count": 15,
   "metadata": {},
   "outputs": [],
   "source": [
    "K = 40  # 取相似的 top-k 用户\n",
    "VALIDATION_RATIO = 0.1  # 验证集比例\n",
    "RANDOM_SEED = 42"
   ]
  },
  {
   "cell_type": "code",
   "execution_count": 8,
   "metadata": {},
   "outputs": [],
   "source": [
    "# ---------------------------\n",
    "# 1. 载入数据\n",
    "# ---------------------------\n",
    "col_matrix = np.loadtxt(\"/home/csu/recommend/col_matrix.csv\", delimiter=\",\")\n",
    "n_users, n_items = col_matrix.shape\n",
    "\n",
    "# ---------------------------\n",
    "# 2. 划分验证集 & 相似度矩阵计算区间\n",
    "# ---------------------------\n",
    "np.random.seed(RANDOM_SEED)\n",
    "all_users = np.arange(4100)  # 非测试区间用户\n",
    "val_users = np.random.choice(all_users, int(len(all_users) * VALIDATION_RATIO), replace=False)\n",
    "val_mask = np.zeros_like(col_matrix, dtype=bool)\n",
    "val_mask[val_users, 2700:] = True"
   ]
  },
  {
   "cell_type": "code",
   "execution_count": 9,
   "metadata": {},
   "outputs": [
    {
     "name": "stdout",
     "output_type": "stream",
     "text": [
      "计算用户相似度矩阵...\n"
     ]
    },
    {
     "name": "stderr",
     "output_type": "stream",
     "text": [
      "  0%|          | 0/6040 [00:00<?, ?it/s]"
     ]
    },
    {
     "name": "stderr",
     "output_type": "stream",
     "text": [
      "100%|██████████| 6040/6040 [13:13<00:00,  7.62it/s] \n"
     ]
    }
   ],
   "source": [
    "# ---------------------------\n",
    "# 3. 计算用户之间的相似度（仅基于 [:, :2700]）\n",
    "# ---------------------------\n",
    "print(\"计算用户相似度矩阵...\")\n",
    "user_vectors = col_matrix[:, :2700]\n",
    "similarity_matrix = np.zeros((n_users, n_users))\n",
    "\n",
    "for i in tqdm(range(n_users)):\n",
    "    for j in range(i, n_users):\n",
    "        sim = penalized_masked_cosine_similarity(user_vectors[i], user_vectors[j])\n",
    "        similarity_matrix[i, j] = sim\n",
    "        similarity_matrix[j, i] = sim  # 对称"
   ]
  },
  {
   "cell_type": "code",
   "execution_count": 16,
   "metadata": {},
   "outputs": [],
   "source": [
    "# ---------------------------\n",
    "# 4. 评分预测函数（对验证集 or 测试集）\n",
    "# ---------------------------\n",
    "def predict_scores(target_users, target_items):\n",
    "    prediction_matrix = np.zeros((len(target_users), len(target_items)))\n",
    "\n",
    "    for idx_i, i in enumerate(tqdm(target_users)):\n",
    "        for idx_j, j in enumerate(target_items):\n",
    "            # 找到对 j 评分过的用户\n",
    "            rated_users = np.where(col_matrix[:, j] != 0)[0]\n",
    "\n",
    "            #  如果是验证用户，不能让他看自己的验证评分！\n",
    "            if i in val_users and j >= 2700:\n",
    "                rated_users = rated_users[rated_users != i]\n",
    "\n",
    "            if len(rated_users) == 0:\n",
    "                prediction_matrix[idx_i, idx_j] = 3  # 无人评分默认中立\n",
    "                continue\n",
    "\n",
    "            # 找相似的用户并排序\n",
    "            sims = similarity_matrix[i, rated_users]\n",
    "            top_k_idx = np.argsort(sims)[-K:][::-1]\n",
    "            top_k_users = rated_users[top_k_idx]\n",
    "            top_k_sims = sims[top_k_idx]\n",
    "            top_k_ratings = col_matrix[top_k_users, j]\n",
    "\n",
    "            if np.sum(top_k_sims) == 0:\n",
    "                prediction_matrix[idx_i, idx_j] = 3\n",
    "            else:\n",
    "                prediction_matrix[idx_i, idx_j] = np.dot(top_k_ratings, top_k_sims) / np.sum(top_k_sims)\n",
    "\n",
    "    prediction_matrix = np.clip(np.round(prediction_matrix), 1, 5)\n",
    "    return prediction_matrix\n"
   ]
  },
  {
   "cell_type": "code",
   "execution_count": 17,
   "metadata": {},
   "outputs": [
    {
     "name": "stdout",
     "output_type": "stream",
     "text": [
      "预测验证集...\n"
     ]
    },
    {
     "name": "stderr",
     "output_type": "stream",
     "text": [
      "100%|██████████| 410/410 [00:51<00:00,  8.00it/s]"
     ]
    },
    {
     "name": "stdout",
     "output_type": "stream",
     "text": [
      "验证集 MAE: 0.7215\n"
     ]
    },
    {
     "name": "stderr",
     "output_type": "stream",
     "text": [
      "\n"
     ]
    }
   ],
   "source": [
    "# ---------------------------\n",
    "# 5. 预测验证集评分并评估\n",
    "# ---------------------------\n",
    "print(\"预测验证集...\")\n",
    "val_users_sorted = sorted(val_users)\n",
    "val_items = list(range(2700, n_items))\n",
    "val_truth = col_matrix[np.ix_(val_users_sorted, val_items)]\n",
    "val_pred = predict_scores(val_users_sorted, val_items)\n",
    "\n",
    "mae = np.mean(np.abs((val_truth[val_truth != 0] - val_pred[val_truth != 0])))\n",
    "print(f\"验证集 MAE: {mae:.4f}\")"
   ]
  },
  {
   "cell_type": "code",
   "execution_count": 18,
   "metadata": {},
   "outputs": [
    {
     "name": "stdout",
     "output_type": "stream",
     "text": [
      "预测测试集...\n"
     ]
    },
    {
     "name": "stderr",
     "output_type": "stream",
     "text": [
      "  0%|          | 0/1940 [00:00<?, ?it/s]"
     ]
    },
    {
     "name": "stderr",
     "output_type": "stream",
     "text": [
      "100%|██████████| 1940/1940 [03:56<00:00,  8.20it/s]\n"
     ]
    },
    {
     "name": "stdout",
     "output_type": "stream",
     "text": [
      "预测完成，结果已保存为 test_prediction.csv\n"
     ]
    }
   ],
   "source": [
    "# ---------------------------\n",
    "# 6. 预测测试集评分并输出\n",
    "# ---------------------------\n",
    "print(\"预测测试集...\")\n",
    "test_users = list(range(4100, n_users))\n",
    "test_items = list(range(2700, n_items))\n",
    "test_pred = predict_scores(test_users, test_items)\n",
    "\n",
    "np.savetxt(\"test_prediction.csv\", test_pred, fmt=\"%d\", delimiter=\",\")\n",
    "print(\"预测完成，结果已保存为 test_prediction.csv\")"
   ]
  },
  {
   "cell_type": "code",
   "execution_count": 19,
   "metadata": {},
   "outputs": [
    {
     "name": "stdout",
     "output_type": "stream",
     "text": [
      "结果格式正确\n"
     ]
    }
   ],
   "source": [
    "import numpy as np\n",
    "predictions =np.loadtxt('test_prediction.csv', delimiter=',')\n",
    "assert predictions.shape == (1940, 1252)\n",
    "assert not np.isnan(predictions).any()\n",
    "assert not np.isinf(predictions).any()\n",
    "print(\"结果格式正确\")"
   ]
  }
 ],
 "metadata": {
  "kernelspec": {
   "display_name": "svm",
   "language": "python",
   "name": "python3"
  },
  "language_info": {
   "codemirror_mode": {
    "name": "ipython",
    "version": 3
   },
   "file_extension": ".py",
   "mimetype": "text/x-python",
   "name": "python",
   "nbconvert_exporter": "python",
   "pygments_lexer": "ipython3",
   "version": "3.10.9"
  }
 },
 "nbformat": 4,
 "nbformat_minor": 2
}
